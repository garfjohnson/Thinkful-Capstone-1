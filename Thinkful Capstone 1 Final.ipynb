{
 "cells": [
  {
   "cell_type": "markdown",
   "metadata": {},
   "source": [
    "# Thinkful Capstone 1 "
   ]
  },
  {
   "cell_type": "markdown",
   "metadata": {},
   "source": [
    "## The Data:\n",
    "\n",
    "I will analyze a very rich dataset containing pitching, hitting, and fielding statistics as well as team and player information from the history of the major leagues of baseball in the USA from 1871 through the 2018 MLB season. It was created by Sean Lahman and can be found at seanlahman.com. He describes the dataset on his website as \"the\n",
    "largest and most accurate source for baseball statistics available\n",
    "anywhere.\""
   ]
  },
  {
   "cell_type": "code",
   "execution_count": 1,
   "metadata": {},
   "outputs": [],
   "source": [
    "import pandas as pd\n",
    "import numpy as np\n",
    "import matplotlib.pyplot as plt\n",
    "%matplotlib inline\n",
    "\n",
    "players = pd.read_csv('C:\\Python34\\Capstone1\\People.csv')"
   ]
  },
  {
   "cell_type": "markdown",
   "metadata": {},
   "source": [
    "There are 27 data tables with incredibly detailed statistics for each player that has ever played. They are all linked together through a unique 'playerID' number."
   ]
  },
  {
   "cell_type": "code",
   "execution_count": 2,
   "metadata": {},
   "outputs": [
    {
     "data": {
      "text/plain": [
       "470808"
      ]
     },
     "execution_count": 2,
     "metadata": {},
     "output_type": "execute_result"
    }
   ],
   "source": [
    "#count elements in the dataframe\n",
    "players.size"
   ]
  },
  {
   "cell_type": "code",
   "execution_count": 3,
   "metadata": {},
   "outputs": [
    {
     "data": {
      "text/plain": [
       "19617"
      ]
     },
     "execution_count": 3,
     "metadata": {},
     "output_type": "execute_result"
    }
   ],
   "source": [
    "#count number of players\n",
    "players.playerID.size"
   ]
  },
  {
   "cell_type": "markdown",
   "metadata": {},
   "source": [
    "There are 470,808 elements in only one of the 27 tables, and there have been 19,617 major leaguers recorded in this dataset. Since it is incredibly large, I will narrow my focus to player demographics."
   ]
  },
  {
   "cell_type": "markdown",
   "metadata": {},
   "source": [
    "## Analytic Questions:\n",
    "\n",
    "#### (1) Where are players from and how has that changed over time?\n",
    "\n",
    "Let's start by seeing how many countries are represented:"
   ]
  },
  {
   "cell_type": "code",
   "execution_count": 4,
   "metadata": {},
   "outputs": [
    {
     "data": {
      "text/plain": [
       "57"
      ]
     },
     "execution_count": 4,
     "metadata": {},
     "output_type": "execute_result"
    }
   ],
   "source": [
    "##Find number of unique countries\n",
    "len(list(players.birthCountry.unique()))"
   ]
  },
  {
   "cell_type": "markdown",
   "metadata": {},
   "source": [
    "There are 57 countries represented throughout the history of baseball. Next, let's plot the top 20 countries by number of players:"
   ]
  },
  {
   "cell_type": "code",
   "execution_count": 5,
   "metadata": {},
   "outputs": [
    {
     "data": {
      "text/plain": [
       "<matplotlib.axes._subplots.AxesSubplot at 0xd2ba1f0>"
      ]
     },
     "execution_count": 5,
     "metadata": {},
     "output_type": "execute_result"
    },
    {
     "data": {
      "image/png": "[encoded data removed]",
      "text/plain": [
       "<Figure size 432x288 with 1 Axes>"
      ]
     },
     "metadata": {
      "needs_background": "light"
     },
     "output_type": "display_data"
    }
   ],
   "source": [
    "##bar graph of number of players from each country\n",
    "players.birthCountry.value_counts().head(20).plot(kind='bar', title='Major League Baseball Players by Birth Country')"
   ]
  },
  {
   "cell_type": "markdown",
   "metadata": {},
   "source": [
    "This shows an outlier that we should have already expected -- an overwhelming majority of players are from the USA. Two factors come to mind: baseball was a uniquely American game in a much less globalized world, and the country has a history of rampant racism. Jackie Robinson debuted as the first black player in 1946 and the Red Sox refused to sign a black player until 1959.\n",
    "\n",
    "However, our data set does not indicate race, which can be subjective anyway, so we will focus on birth country as our demographic criteria and birth year to see trends over time. Since the USA is an overwhelming majority, I'll group all foreign born players into one category and see how the ratio between the amount of USA and international players has changed."
   ]
  },
  {
   "cell_type": "code",
   "execution_count": 6,
   "metadata": {},
   "outputs": [
    {
     "data": {
      "text/plain": [
       "120"
      ]
     },
     "execution_count": 6,
     "metadata": {},
     "output_type": "execute_result"
    }
   ],
   "source": [
    "##check for null values\n",
    "players.birthYear.isnull().sum()"
   ]
  },
  {
   "cell_type": "code",
   "execution_count": 7,
   "metadata": {},
   "outputs": [
    {
     "data": {
      "text/plain": [
       "64"
      ]
     },
     "execution_count": 7,
     "metadata": {},
     "output_type": "execute_result"
    }
   ],
   "source": [
    "players.birthCountry.isnull().sum()"
   ]
  },
  {
   "cell_type": "markdown",
   "metadata": {},
   "source": [
    "There 120 missing values for birth year and 64 for birth country out of over 19,000 players. We can safely drop them from our population and still have a very nice sample. "
   ]
  },
  {
   "cell_type": "code",
   "execution_count": 8,
   "metadata": {},
   "outputs": [],
   "source": [
    "##drop null values \n",
    "players.birthYear.dropna(inplace=True)\n",
    "players.birthCountry.dropna(inplace=True)\n",
    "##create boolean column based on from USA or not\n",
    "players['countryBoolean'] = players.birthCountry == 'USA'"
   ]
  },
  {
   "cell_type": "markdown",
   "metadata": {},
   "source": [
    "Now we'll group our data by decade and whether they are USA or internationally born."
   ]
  },
  {
   "cell_type": "code",
   "execution_count": 9,
   "metadata": {},
   "outputs": [
    {
     "data": {
      "text/html": [
       "<div>\n",
       "<style scoped>\n",
       "    .dataframe tbody tr th:only-of-type {\n",
       "        vertical-align: middle;\n",
       "    }\n",
       "\n",
       "    .dataframe tbody tr th {\n",
       "        vertical-align: top;\n",
       "    }\n",
       "\n",
       "    .dataframe thead th {\n",
       "        text-align: right;\n",
       "    }\n",
       "</style>\n",
       "<table border=\"1\" class=\"dataframe\">\n",
       "  <thead>\n",
       "    <tr style=\"text-align: right;\">\n",
       "      <th></th>\n",
       "      <th>decade</th>\n",
       "      <th>countryBoolean</th>\n",
       "      <th>0</th>\n",
       "    </tr>\n",
       "  </thead>\n",
       "  <tbody>\n",
       "    <tr>\n",
       "      <th>0</th>\n",
       "      <td>1820.0</td>\n",
       "      <td>False</td>\n",
       "      <td>1</td>\n",
       "    </tr>\n",
       "    <tr>\n",
       "      <th>1</th>\n",
       "      <td>1820.0</td>\n",
       "      <td>True</td>\n",
       "      <td>1</td>\n",
       "    </tr>\n",
       "    <tr>\n",
       "      <th>2</th>\n",
       "      <td>1830.0</td>\n",
       "      <td>False</td>\n",
       "      <td>1</td>\n",
       "    </tr>\n",
       "    <tr>\n",
       "      <th>3</th>\n",
       "      <td>1830.0</td>\n",
       "      <td>True</td>\n",
       "      <td>9</td>\n",
       "    </tr>\n",
       "    <tr>\n",
       "      <th>4</th>\n",
       "      <td>1840.0</td>\n",
       "      <td>False</td>\n",
       "      <td>18</td>\n",
       "    </tr>\n",
       "    <tr>\n",
       "      <th>5</th>\n",
       "      <td>1840.0</td>\n",
       "      <td>True</td>\n",
       "      <td>133</td>\n",
       "    </tr>\n",
       "    <tr>\n",
       "      <th>6</th>\n",
       "      <td>1850.0</td>\n",
       "      <td>False</td>\n",
       "      <td>59</td>\n",
       "    </tr>\n",
       "    <tr>\n",
       "      <th>7</th>\n",
       "      <td>1850.0</td>\n",
       "      <td>True</td>\n",
       "      <td>536</td>\n",
       "    </tr>\n",
       "    <tr>\n",
       "      <th>8</th>\n",
       "      <td>1860.0</td>\n",
       "      <td>False</td>\n",
       "      <td>57</td>\n",
       "    </tr>\n",
       "    <tr>\n",
       "      <th>9</th>\n",
       "      <td>1860.0</td>\n",
       "      <td>True</td>\n",
       "      <td>906</td>\n",
       "    </tr>\n",
       "  </tbody>\n",
       "</table>\n",
       "</div>"
      ],
      "text/plain": [
       "   decade  countryBoolean    0\n",
       "0  1820.0           False    1\n",
       "1  1820.0            True    1\n",
       "2  1830.0           False    1\n",
       "3  1830.0            True    9\n",
       "4  1840.0           False   18\n",
       "5  1840.0            True  133\n",
       "6  1850.0           False   59\n",
       "7  1850.0            True  536\n",
       "8  1860.0           False   57\n",
       "9  1860.0            True  906"
      ]
     },
     "execution_count": 9,
     "metadata": {},
     "output_type": "execute_result"
    }
   ],
   "source": [
    "##create birth decade column\n",
    "players['decade'] = players['birthYear'].apply(lambda x: np.floor(x/10)*10)\n",
    "demographics = players.groupby(by=[\"decade\", \"countryBoolean\"]).size().reset_index()\n",
    "demographics.head(10)"
   ]
  },
  {
   "cell_type": "markdown",
   "metadata": {},
   "source": [
    "With only 12 players born before 1840, we can drop them to improve our sample."
   ]
  },
  {
   "cell_type": "code",
   "execution_count": 10,
   "metadata": {},
   "outputs": [],
   "source": [
    "#create new df without 1820s or 1830s\n",
    "final_demographics = demographics.drop([0,1,2,3]).reset_index()"
   ]
  },
  {
   "cell_type": "markdown",
   "metadata": {},
   "source": [
    "Next I'll add a column for total players by decade in order to calculate the ratio of USA players."
   ]
  },
  {
   "cell_type": "code",
   "execution_count": 11,
   "metadata": {},
   "outputs": [
    {
     "data": {
      "text/html": [
       "<div>\n",
       "<style scoped>\n",
       "    .dataframe tbody tr th:only-of-type {\n",
       "        vertical-align: middle;\n",
       "    }\n",
       "\n",
       "    .dataframe tbody tr th {\n",
       "        vertical-align: top;\n",
       "    }\n",
       "\n",
       "    .dataframe thead th {\n",
       "        text-align: right;\n",
       "    }\n",
       "</style>\n",
       "<table border=\"1\" class=\"dataframe\">\n",
       "  <thead>\n",
       "    <tr style=\"text-align: right;\">\n",
       "      <th></th>\n",
       "      <th>index</th>\n",
       "      <th>decade</th>\n",
       "      <th>countryBoolean</th>\n",
       "      <th>01</th>\n",
       "      <th>02</th>\n",
       "      <th>ratio</th>\n",
       "    </tr>\n",
       "  </thead>\n",
       "  <tbody>\n",
       "    <tr>\n",
       "      <th>1</th>\n",
       "      <td>5</td>\n",
       "      <td>1840.0</td>\n",
       "      <td>True</td>\n",
       "      <td>133</td>\n",
       "      <td>152</td>\n",
       "      <td>87.500000</td>\n",
       "    </tr>\n",
       "    <tr>\n",
       "      <th>3</th>\n",
       "      <td>7</td>\n",
       "      <td>1850.0</td>\n",
       "      <td>True</td>\n",
       "      <td>536</td>\n",
       "      <td>596</td>\n",
       "      <td>89.932886</td>\n",
       "    </tr>\n",
       "    <tr>\n",
       "      <th>5</th>\n",
       "      <td>9</td>\n",
       "      <td>1860.0</td>\n",
       "      <td>True</td>\n",
       "      <td>906</td>\n",
       "      <td>964</td>\n",
       "      <td>93.983402</td>\n",
       "    </tr>\n",
       "    <tr>\n",
       "      <th>7</th>\n",
       "      <td>11</td>\n",
       "      <td>1870.0</td>\n",
       "      <td>True</td>\n",
       "      <td>851</td>\n",
       "      <td>897</td>\n",
       "      <td>94.871795</td>\n",
       "    </tr>\n",
       "    <tr>\n",
       "      <th>9</th>\n",
       "      <td>13</td>\n",
       "      <td>1880.0</td>\n",
       "      <td>True</td>\n",
       "      <td>1247</td>\n",
       "      <td>1294</td>\n",
       "      <td>96.367852</td>\n",
       "    </tr>\n",
       "    <tr>\n",
       "      <th>11</th>\n",
       "      <td>15</td>\n",
       "      <td>1890.0</td>\n",
       "      <td>True</td>\n",
       "      <td>1458</td>\n",
       "      <td>1493</td>\n",
       "      <td>97.655727</td>\n",
       "    </tr>\n",
       "    <tr>\n",
       "      <th>13</th>\n",
       "      <td>17</td>\n",
       "      <td>1900.0</td>\n",
       "      <td>True</td>\n",
       "      <td>1068</td>\n",
       "      <td>1087</td>\n",
       "      <td>98.252070</td>\n",
       "    </tr>\n",
       "    <tr>\n",
       "      <th>15</th>\n",
       "      <td>19</td>\n",
       "      <td>1910.0</td>\n",
       "      <td>True</td>\n",
       "      <td>1198</td>\n",
       "      <td>1245</td>\n",
       "      <td>96.224900</td>\n",
       "    </tr>\n",
       "    <tr>\n",
       "      <th>17</th>\n",
       "      <td>21</td>\n",
       "      <td>1920.0</td>\n",
       "      <td>True</td>\n",
       "      <td>966</td>\n",
       "      <td>1022</td>\n",
       "      <td>94.520548</td>\n",
       "    </tr>\n",
       "    <tr>\n",
       "      <th>19</th>\n",
       "      <td>23</td>\n",
       "      <td>1930.0</td>\n",
       "      <td>True</td>\n",
       "      <td>883</td>\n",
       "      <td>989</td>\n",
       "      <td>89.282103</td>\n",
       "    </tr>\n",
       "    <tr>\n",
       "      <th>21</th>\n",
       "      <td>25</td>\n",
       "      <td>1940.0</td>\n",
       "      <td>True</td>\n",
       "      <td>1163</td>\n",
       "      <td>1288</td>\n",
       "      <td>90.295031</td>\n",
       "    </tr>\n",
       "    <tr>\n",
       "      <th>23</th>\n",
       "      <td>27</td>\n",
       "      <td>1950.0</td>\n",
       "      <td>True</td>\n",
       "      <td>1337</td>\n",
       "      <td>1492</td>\n",
       "      <td>89.611260</td>\n",
       "    </tr>\n",
       "    <tr>\n",
       "      <th>25</th>\n",
       "      <td>29</td>\n",
       "      <td>1960.0</td>\n",
       "      <td>True</td>\n",
       "      <td>1468</td>\n",
       "      <td>1749</td>\n",
       "      <td>83.933676</td>\n",
       "    </tr>\n",
       "    <tr>\n",
       "      <th>27</th>\n",
       "      <td>31</td>\n",
       "      <td>1970.0</td>\n",
       "      <td>True</td>\n",
       "      <td>1469</td>\n",
       "      <td>1997</td>\n",
       "      <td>73.560341</td>\n",
       "    </tr>\n",
       "    <tr>\n",
       "      <th>29</th>\n",
       "      <td>33</td>\n",
       "      <td>1980.0</td>\n",
       "      <td>True</td>\n",
       "      <td>1620</td>\n",
       "      <td>2197</td>\n",
       "      <td>73.736914</td>\n",
       "    </tr>\n",
       "    <tr>\n",
       "      <th>31</th>\n",
       "      <td>35</td>\n",
       "      <td>1990.0</td>\n",
       "      <td>True</td>\n",
       "      <td>686</td>\n",
       "      <td>1023</td>\n",
       "      <td>67.057674</td>\n",
       "    </tr>\n",
       "  </tbody>\n",
       "</table>\n",
       "</div>"
      ],
      "text/plain": [
       "    index  decade  countryBoolean    01    02      ratio\n",
       "1       5  1840.0            True   133   152  87.500000\n",
       "3       7  1850.0            True   536   596  89.932886\n",
       "5       9  1860.0            True   906   964  93.983402\n",
       "7      11  1870.0            True   851   897  94.871795\n",
       "9      13  1880.0            True  1247  1294  96.367852\n",
       "11     15  1890.0            True  1458  1493  97.655727\n",
       "13     17  1900.0            True  1068  1087  98.252070\n",
       "15     19  1910.0            True  1198  1245  96.224900\n",
       "17     21  1920.0            True   966  1022  94.520548\n",
       "19     23  1930.0            True   883   989  89.282103\n",
       "21     25  1940.0            True  1163  1288  90.295031\n",
       "23     27  1950.0            True  1337  1492  89.611260\n",
       "25     29  1960.0            True  1468  1749  83.933676\n",
       "27     31  1970.0            True  1469  1997  73.560341\n",
       "29     33  1980.0            True  1620  2197  73.736914\n",
       "31     35  1990.0            True   686  1023  67.057674"
      ]
     },
     "execution_count": 11,
     "metadata": {},
     "output_type": "execute_result"
    }
   ],
   "source": [
    "##create df to count total players per decade\n",
    "total_decade = players.groupby(by=[\"decade\"]).size().reset_index().drop([0,1])\n",
    "total_decade.reset_index(inplace=True)\n",
    "total_decade.drop(['index'], axis=1, inplace=True)\n",
    "##create df to join total players\n",
    "final = pd.merge(final_demographics, total_decade, on='decade', how=\"inner\", suffixes=[\"1\", \"2\"])\n",
    "##create column for ratio of USA players\n",
    "final[\"ratio\"] = (final[\"01\"]/final[\"02\"])*100\n",
    "##create df for only USA ratios by decade\n",
    "usa_ratios = final[final.countryBoolean==True]\n",
    "usa_ratios"
   ]
  },
  {
   "cell_type": "markdown",
   "metadata": {},
   "source": [
    "There's our final table. A line graph can help better visualize the trend over time."
   ]
  },
  {
   "cell_type": "code",
   "execution_count": 12,
   "metadata": {},
   "outputs": [
    {
     "data": {
      "text/plain": [
       "(40, 105)"
      ]
     },
     "execution_count": 12,
     "metadata": {},
     "output_type": "execute_result"
    },
    {
     "data": {
      "image/png": "[encoded data removed]",
      "text/plain": [
       "<Figure size 432x288 with 1 Axes>"
      ]
     },
     "metadata": {
      "needs_background": "light"
     },
     "output_type": "display_data"
    }
   ],
   "source": [
    "##create line graph\n",
    "demo_line = usa_ratios.plot.line(x='decade', y='ratio', title='Percentage of US Born Major League Baseball Players Over Time', legend=False)\n",
    "plt.xlabel('Decade Born')\n",
    "plt.ylabel('% of US born players')\n",
    "plt.ylim([40, 105])"
   ]
  },
  {
   "cell_type": "markdown",
   "metadata": {},
   "source": [
    "We can conclude that the ratio has obviously decreased over time as baseball gained popularity and the world became more globalized. More interstingly, 13% of initial players were foreign and that percentage dimished to less than 3% around the turn of the 19th century. Those 13% must have immigrated to the USA for reasons not related to baseball, as the game didn't exist where they came from yet. Conversely, the foreign born player influx in more recent decades is surely a player who grew up playing baseball in their home country and came specifically to play in the majors."
   ]
  },
  {
   "cell_type": "markdown",
   "metadata": {},
   "source": [
    "Next up, we'll take a look at the physical aspects of these players."
   ]
  },
  {
   "cell_type": "markdown",
   "metadata": {},
   "source": [
    "#### (2) How have physical attributes of players changed over time?"
   ]
  },
  {
   "cell_type": "markdown",
   "metadata": {},
   "source": [
    "We'll be using height and weight data for our players. I expect to see significant increases in both categories over time as athletes have been getting bigger and stronger throughout all sports. However, it will be interesting to see if the steroids-ridden 2000s era of baseball will be detectable in our dataset as a sharp uptick. As a reminder, we are using birth year as our time criteria, so this data will correspond to roughly 20 to 25 years in the future."
   ]
  },
  {
   "cell_type": "markdown",
   "metadata": {},
   "source": [
    "Let's start with some summary statistics."
   ]
  },
  {
   "cell_type": "code",
   "execution_count": 13,
   "metadata": {},
   "outputs": [
    {
     "data": {
      "text/plain": [
       "186.8464772243508"
      ]
     },
     "execution_count": 13,
     "metadata": {},
     "output_type": "execute_result"
    }
   ],
   "source": [
    "##find mean of all players weight in pounds\n",
    "np.mean(players.weight)"
   ]
  },
  {
   "cell_type": "code",
   "execution_count": 14,
   "metadata": {},
   "outputs": [
    {
     "data": {
      "text/plain": [
       "72.30802649006623"
      ]
     },
     "execution_count": 14,
     "metadata": {},
     "output_type": "execute_result"
    }
   ],
   "source": [
    "##find mean of all players height in inches\n",
    "np.mean(players.height)"
   ]
  },
  {
   "cell_type": "markdown",
   "metadata": {},
   "source": [
    "The average professional throughout baseball history has been about 187 pounds and just over 6 feet tall. Let's go back to grouping by decade to see how it has changed."
   ]
  },
  {
   "cell_type": "code",
   "execution_count": 15,
   "metadata": {},
   "outputs": [
    {
     "data": {
      "text/html": [
       "<div>\n",
       "<style scoped>\n",
       "    .dataframe tbody tr th:only-of-type {\n",
       "        vertical-align: middle;\n",
       "    }\n",
       "\n",
       "    .dataframe tbody tr th {\n",
       "        vertical-align: top;\n",
       "    }\n",
       "\n",
       "    .dataframe thead th {\n",
       "        text-align: right;\n",
       "    }\n",
       "</style>\n",
       "<table border=\"1\" class=\"dataframe\">\n",
       "  <thead>\n",
       "    <tr style=\"text-align: right;\">\n",
       "      <th></th>\n",
       "      <th>decade</th>\n",
       "      <th>height</th>\n",
       "      <th>weight</th>\n",
       "    </tr>\n",
       "  </thead>\n",
       "  <tbody>\n",
       "    <tr>\n",
       "      <th>0</th>\n",
       "      <td>1820.0</td>\n",
       "      <td>NaN</td>\n",
       "      <td>NaN</td>\n",
       "    </tr>\n",
       "    <tr>\n",
       "      <th>1</th>\n",
       "      <td>1830.0</td>\n",
       "      <td>68.250000</td>\n",
       "      <td>151.500000</td>\n",
       "    </tr>\n",
       "    <tr>\n",
       "      <th>2</th>\n",
       "      <td>1840.0</td>\n",
       "      <td>68.537037</td>\n",
       "      <td>157.190476</td>\n",
       "    </tr>\n",
       "    <tr>\n",
       "      <th>3</th>\n",
       "      <td>1850.0</td>\n",
       "      <td>69.175904</td>\n",
       "      <td>167.587678</td>\n",
       "    </tr>\n",
       "    <tr>\n",
       "      <th>4</th>\n",
       "      <td>1860.0</td>\n",
       "      <td>69.688830</td>\n",
       "      <td>169.142857</td>\n",
       "    </tr>\n",
       "  </tbody>\n",
       "</table>\n",
       "</div>"
      ],
      "text/plain": [
       "   decade     height      weight\n",
       "0  1820.0        NaN         NaN\n",
       "1  1830.0  68.250000  151.500000\n",
       "2  1840.0  68.537037  157.190476\n",
       "3  1850.0  69.175904  167.587678\n",
       "4  1860.0  69.688830  169.142857"
      ]
     },
     "execution_count": 15,
     "metadata": {},
     "output_type": "execute_result"
    }
   ],
   "source": [
    "##create new dataframe for physical stats and group by decade and calculate the mean for height and weight\n",
    "physical = players[['height', 'weight', 'decade']].groupby('decade').mean().reset_index()\n",
    "physical.head(5)"
   ]
  },
  {
   "cell_type": "markdown",
   "metadata": {},
   "source": [
    "Let's drop the row with no values."
   ]
  },
  {
   "cell_type": "code",
   "execution_count": 16,
   "metadata": {},
   "outputs": [
    {
     "data": {
      "text/html": [
       "<div>\n",
       "<style scoped>\n",
       "    .dataframe tbody tr th:only-of-type {\n",
       "        vertical-align: middle;\n",
       "    }\n",
       "\n",
       "    .dataframe tbody tr th {\n",
       "        vertical-align: top;\n",
       "    }\n",
       "\n",
       "    .dataframe thead th {\n",
       "        text-align: right;\n",
       "    }\n",
       "</style>\n",
       "<table border=\"1\" class=\"dataframe\">\n",
       "  <thead>\n",
       "    <tr style=\"text-align: right;\">\n",
       "      <th></th>\n",
       "      <th>decade</th>\n",
       "      <th>height</th>\n",
       "      <th>weight</th>\n",
       "    </tr>\n",
       "  </thead>\n",
       "  <tbody>\n",
       "    <tr>\n",
       "      <th>1</th>\n",
       "      <td>1830.0</td>\n",
       "      <td>68.250000</td>\n",
       "      <td>151.500000</td>\n",
       "    </tr>\n",
       "    <tr>\n",
       "      <th>2</th>\n",
       "      <td>1840.0</td>\n",
       "      <td>68.537037</td>\n",
       "      <td>157.190476</td>\n",
       "    </tr>\n",
       "  </tbody>\n",
       "</table>\n",
       "</div>"
      ],
      "text/plain": [
       "   decade     height      weight\n",
       "1  1830.0  68.250000  151.500000\n",
       "2  1840.0  68.537037  157.190476"
      ]
     },
     "execution_count": 16,
     "metadata": {},
     "output_type": "execute_result"
    }
   ],
   "source": [
    "##drop 1820 decade\n",
    "physical.drop(index=0).head(2)"
   ]
  },
  {
   "cell_type": "markdown",
   "metadata": {},
   "source": [
    "Now we can plot our data. The Y axis for height shows 5' as the lower limit and 7' as the upper."
   ]
  },
  {
   "cell_type": "code",
   "execution_count": 17,
   "metadata": {},
   "outputs": [
    {
     "data": {
      "text/plain": [
       "Text(0.5, 1.0, 'Avg. Height for Baseball Major Leaguers by Decade')"
      ]
     },
     "execution_count": 17,
     "metadata": {},
     "output_type": "execute_result"
    },
    {
     "data": {
      "image/png": "[encoded data removed]",
      "text/plain": [
       "<Figure size 432x288 with 1 Axes>"
      ]
     },
     "metadata": {
      "needs_background": "light"
     },
     "output_type": "display_data"
    }
   ],
   "source": [
    "##plot avg height by decade\n",
    "physical.plot(x='decade', y='height', legend=False, ylim=[60, 84])\n",
    "plt.ylabel(' Avg. Height in Inches')\n",
    "plt.xlabel('Decade')\n",
    "plt.title('Avg. Height for Baseball Major Leaguers by Decade')"
   ]
  },
  {
   "cell_type": "markdown",
   "metadata": {},
   "source": [
    "As we can see here, height has risen over time, but nothing substantial. It has grown from just below 6 ft. to a few inches over. Obviously height is not something someone can train to improve, but as the pool of potential players has grown, the taller have been more likely to succeed."
   ]
  },
  {
   "cell_type": "code",
   "execution_count": 18,
   "metadata": {},
   "outputs": [
    {
     "data": {
      "text/plain": [
       "Text(0.5, 1.0, 'Avg. Weight for Baseball Major Leaguers by Decade')"
      ]
     },
     "execution_count": 18,
     "metadata": {},
     "output_type": "execute_result"
    },
    {
     "data": {
      "image/png": "[encoded data removed]",
      "text/plain": [
       "<Figure size 432x288 with 1 Axes>"
      ]
     },
     "metadata": {
      "needs_background": "light"
     },
     "output_type": "display_data"
    }
   ],
   "source": [
    "##plot avg weight by decade\n",
    "physical.plot(x='decade', y='weight', legend=False)\n",
    "plt.ylabel(' Avg. Weight in Pounds')\n",
    "plt.xlabel('Decade')\n",
    "plt.title('Avg. Weight for Baseball Major Leaguers by Decade')"
   ]
  },
  {
   "cell_type": "markdown",
   "metadata": {},
   "source": [
    "And there it is, an obvious growth of players over time as expected. We can also see the sharp uptick in players born in the 1980s who would go on to play in the 2000s in which there was well documented rampant steroid abuse. "
   ]
  },
  {
   "cell_type": "markdown",
   "metadata": {},
   "source": [
    "#### (3) Are there any correlated trends to the steroid era?"
   ]
  },
  {
   "cell_type": "markdown",
   "metadata": {},
   "source": [
    "Finally, we'll take a closer look at the spike in player weight from players born in the 80s. Since I argue this is due to steroid abuse, what other stats can we observe that correlate to that? First things that come to mind are home runs of course. "
   ]
  },
  {
   "cell_type": "code",
   "execution_count": 20,
   "metadata": {},
   "outputs": [
    {
     "data": {
      "text/plain": [
       "Text(0.5, 1.0, 'Total HR by Year')"
      ]
     },
     "execution_count": 20,
     "metadata": {},
     "output_type": "execute_result"
    },
    {
     "data": {
      "image/png": "[encoded data removed]",
      "text/plain": [
       "<Figure size 432x288 with 1 Axes>"
      ]
     },
     "metadata": {
      "needs_background": "light"
     },
     "output_type": "display_data"
    }
   ],
   "source": [
    "##get batting stats csv\n",
    "initial_batting = pd.read_csv('C:\\Python34\\Capstone1\\Batting.csv')\n",
    "##create df with year and HR\n",
    "batting = initial_batting[['yearID', 'HR']].copy().groupby(['yearID']).size()\n",
    "batting.plot()\n",
    "plt.ylabel('Total HR')\n",
    "plt.xlabel('Year')\n",
    "plt.title('Total HR by Year')"
   ]
  },
  {
   "cell_type": "markdown",
   "metadata": {},
   "source": [
    "Here we see that home run totals follow the same broad trend as player weight -- both have consistently increased over time. However, there doesn't seem to be an obvious spike upwards in the 2000s that corresponds with the peak and decline shown in our player weight graph. One reason comes to mind: opposing pitchers were using steroids as well, so that player weight would be more indicative of overall steroid use than any baseball statistic would be.\n",
    "\n",
    "Another reason could be that a minority of players who were on steroids were the ones putting up massive home run numbers and created the identity of that era of baseball, while the majority of players only slightly increased their size and performance. Let's look at the top performances by year."
   ]
  },
  {
   "cell_type": "code",
   "execution_count": 26,
   "metadata": {},
   "outputs": [
    {
     "data": {
      "text/plain": [
       "Text(0.5, 1.0, 'League Best HR total by Year')"
      ]
     },
     "execution_count": 26,
     "metadata": {},
     "output_type": "execute_result"
    },
    {
     "data": {
      "image/png": "[encoded data removed]",
      "text/plain": [
       "<Figure size 432x288 with 1 Axes>"
      ]
     },
     "metadata": {
      "needs_background": "light"
     },
     "output_type": "display_data"
    }
   ],
   "source": [
    "##create new df grouped by highest player hr per year\n",
    "top_batting = initial_batting[['yearID', 'HR']].copy().groupby(['yearID']).max()\n",
    "top_batting.plot(legend=False)\n",
    "plt.ylabel('HR')\n",
    "plt.xlabel('Year')\n",
    "plt.title('League Best HR total by Year')"
   ]
  },
  {
   "cell_type": "markdown",
   "metadata": {},
   "source": [
    "We finally see our expected trend again. The tallest peak is Barry Bonds' all time single season record total of 73 HR in the 2001 season. The sharp spike in 1920 can be credited to the emergence of Babe Ruth. Here's the 5 highest single season totals:"
   ]
  },
  {
   "cell_type": "code",
   "execution_count": 30,
   "metadata": {},
   "outputs": [
    {
     "data": {
      "text/html": [
       "<div>\n",
       "<style scoped>\n",
       "    .dataframe tbody tr th:only-of-type {\n",
       "        vertical-align: middle;\n",
       "    }\n",
       "\n",
       "    .dataframe tbody tr th {\n",
       "        vertical-align: top;\n",
       "    }\n",
       "\n",
       "    .dataframe thead th {\n",
       "        text-align: right;\n",
       "    }\n",
       "</style>\n",
       "<table border=\"1\" class=\"dataframe\">\n",
       "  <thead>\n",
       "    <tr style=\"text-align: right;\">\n",
       "      <th></th>\n",
       "      <th>Name</th>\n",
       "      <th>HR</th>\n",
       "      <th>Season</th>\n",
       "    </tr>\n",
       "  </thead>\n",
       "  <tbody>\n",
       "    <tr>\n",
       "      <th>0</th>\n",
       "      <td>Barry Bonds</td>\n",
       "      <td>73</td>\n",
       "      <td>2001</td>\n",
       "    </tr>\n",
       "    <tr>\n",
       "      <th>1</th>\n",
       "      <td>Mark McGwire</td>\n",
       "      <td>70</td>\n",
       "      <td>1998</td>\n",
       "    </tr>\n",
       "    <tr>\n",
       "      <th>2</th>\n",
       "      <td>Sammy Sosa</td>\n",
       "      <td>66</td>\n",
       "      <td>1998</td>\n",
       "    </tr>\n",
       "    <tr>\n",
       "      <th>3</th>\n",
       "      <td>Mark McGwire</td>\n",
       "      <td>65</td>\n",
       "      <td>1999</td>\n",
       "    </tr>\n",
       "    <tr>\n",
       "      <th>4</th>\n",
       "      <td>Sammy Sosa</td>\n",
       "      <td>64</td>\n",
       "      <td>2001</td>\n",
       "    </tr>\n",
       "  </tbody>\n",
       "</table>\n",
       "</div>"
      ],
      "text/plain": [
       "           Name  HR Season\n",
       "0   Barry Bonds  73   2001\n",
       "1  Mark McGwire  70   1998\n",
       "2    Sammy Sosa  66   1998\n",
       "3  Mark McGwire  65   1999\n",
       "4    Sammy Sosa  64   2001"
      ]
     },
     "execution_count": 30,
     "metadata": {},
     "output_type": "execute_result"
    }
   ],
   "source": [
    "##create df of top 5 HR seasons\n",
    "hr_array = np.array([['Barry Bonds', 73, 2001],\n",
    "                     ['Mark McGwire', 70, 1998],\n",
    "                     ['Sammy Sosa', 66, 1998],\n",
    "                     ['Mark McGwire', 65, 1999],\n",
    "                     ['Sammy Sosa', 64, 2001]])\n",
    "homerun = pd.DataFrame(hr_array)\n",
    "homerun.columns = ['Name', 'HR', 'Season']\n",
    "homerun"
   ]
  },
  {
   "cell_type": "markdown",
   "metadata": {},
   "source": [
    "Clearly these 3 players are the face of steroids in the MLB and for good reason. Barry Bonds weighed 185 pounds in 1991 and grew to be 228 pounds in his record-setting 2001 season. It seems that this era of baseball was most likely very top-heavy in its steroid abuse. Only a handful of players used them to the extreme that McGwire, Sosa, and Bonds did."
   ]
  },
  {
   "cell_type": "markdown",
   "metadata": {},
   "source": [
    "## Further Reasearch"
   ]
  },
  {
   "cell_type": "markdown",
   "metadata": {},
   "source": [
    "Moving forward in this course, I want to be able to create prediction models for datasets like this one. Based on such rich data, we could attempt to predict win totals for teams, potential World Series winners, etc. "
   ]
  }
 ],
 "metadata": {
  "kernelspec": {
   "display_name": "Python 3",
   "language": "python",
   "name": "python3"
  },
  "language_info": {
   "codemirror_mode": {
    "name": "ipython",
    "version": 3
   },
   "file_extension": ".py",
   "mimetype": "text/x-python",
   "name": "python",
   "nbconvert_exporter": "python",
   "pygments_lexer": "ipython3",
   "version": "3.7.3"
  }
 },
 "nbformat": 4,
 "nbformat_minor": 2
}
